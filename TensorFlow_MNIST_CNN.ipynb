{
  "nbformat": 4,
  "nbformat_minor": 0,
  "metadata": {
    "colab": {
      "name": "TensorFlow_7.ipynb",
      "version": "0.3.2",
      "provenance": [],
      "collapsed_sections": []
    },
    "kernelspec": {
      "name": "python3",
      "display_name": "Python 3"
    }
  },
  "cells": [
    {
      "metadata": {
        "id": "9fbrns6qQ2jO",
        "colab_type": "text"
      },
      "cell_type": "markdown",
      "source": [
        "# ***MNIST CNN***"
      ]
    },
    {
      "metadata": {
        "id": "zyqMyJOGQ1cE",
        "colab_type": "code",
        "outputId": "04fa2197-0ade-445b-e3de-9c3747bdb074",
        "colab": {
          "base_uri": "https://localhost:8080/",
          "height": 34
        }
      },
      "cell_type": "code",
      "source": [
        "from google.colab import drive\n",
        "drive.mount('/content/drive')"
      ],
      "execution_count": 0,
      "outputs": [
        {
          "output_type": "stream",
          "text": [
            "Drive already mounted at /content/drive; to attempt to forcibly remount, call drive.mount(\"/content/drive\", force_remount=True).\n"
          ],
          "name": "stdout"
        }
      ]
    },
    {
      "metadata": {
        "id": "3rrwUDsPRJf3",
        "colab_type": "code",
        "colab": {}
      },
      "cell_type": "code",
      "source": [
        "import tensorflow as tf"
      ],
      "execution_count": 0,
      "outputs": []
    },
    {
      "metadata": {
        "id": "sKi3M5FjRwZp",
        "colab_type": "code",
        "colab": {}
      },
      "cell_type": "code",
      "source": [
        "from tensorflow.examples.tutorials.mnist import input_data"
      ],
      "execution_count": 0,
      "outputs": []
    },
    {
      "metadata": {
        "id": "FROt7druR5Mf",
        "colab_type": "code",
        "outputId": "ad02cfe9-530c-46bf-de91-6f6e973430aa",
        "colab": {
          "base_uri": "https://localhost:8080/",
          "height": 85
        }
      },
      "cell_type": "code",
      "source": [
        "mnist=input_data.read_data_sets('/content/drive/My Drive/Tensorflow-Bootcamp-master/03-Convolutional-Neural-Networks/MNIST_data/',one_hot=True)"
      ],
      "execution_count": 0,
      "outputs": [
        {
          "output_type": "stream",
          "text": [
            "Extracting /content/drive/My Drive/Tensorflow-Bootcamp-master/03-Convolutional-Neural-Networks/MNIST_data/train-images-idx3-ubyte.gz\n",
            "Extracting /content/drive/My Drive/Tensorflow-Bootcamp-master/03-Convolutional-Neural-Networks/MNIST_data/train-labels-idx1-ubyte.gz\n",
            "Extracting /content/drive/My Drive/Tensorflow-Bootcamp-master/03-Convolutional-Neural-Networks/MNIST_data/t10k-images-idx3-ubyte.gz\n",
            "Extracting /content/drive/My Drive/Tensorflow-Bootcamp-master/03-Convolutional-Neural-Networks/MNIST_data/t10k-labels-idx1-ubyte.gz\n"
          ],
          "name": "stdout"
        }
      ]
    },
    {
      "metadata": {
        "id": "krlqjZORSBEq",
        "colab_type": "code",
        "colab": {}
      },
      "cell_type": "code",
      "source": [
        "# init weights\n",
        "\n",
        "def init_weights(shape):\n",
        "  init_random_dist=tf.truncated_normal(shape,stddev=0.1)\n",
        "  return tf.Variable(init_random_dist)"
      ],
      "execution_count": 0,
      "outputs": []
    },
    {
      "metadata": {
        "id": "rscG7az4Sgz8",
        "colab_type": "code",
        "colab": {}
      },
      "cell_type": "code",
      "source": [
        "# init bias\n",
        "\n",
        "def init_bias(shape):\n",
        "  init_bias_vals=tf.constant(0.1,shape=shape)\n",
        "  return tf.Variable(init_bias_vals)"
      ],
      "execution_count": 0,
      "outputs": []
    },
    {
      "metadata": {
        "id": "tGK3yxUTTCj6",
        "colab_type": "code",
        "colab": {}
      },
      "cell_type": "code",
      "source": [
        "# cond2d\n",
        "\n",
        "def conv2d(x,W):\n",
        "  # x --> [batch,H,W,Channels]\n",
        "  # W --> [filter H, filter W, Channel IN, Channel OUT]\n",
        "  return tf.nn.conv2d(x,W,strides=[1,1,1,1],padding='SAME')"
      ],
      "execution_count": 0,
      "outputs": []
    },
    {
      "metadata": {
        "id": "wfS8CXjXUXS0",
        "colab_type": "code",
        "colab": {}
      },
      "cell_type": "code",
      "source": [
        "# pooling\n",
        "\n",
        "def max_pool_2by2(x):\n",
        "  # x --> [batch,h,w,c]\n",
        "  return tf.nn.max_pool(x,ksize=[1,2,2,1],strides=[1,2,2,1],padding='SAME')"
      ],
      "execution_count": 0,
      "outputs": []
    },
    {
      "metadata": {
        "id": "FDgMikLcVstI",
        "colab_type": "code",
        "colab": {}
      },
      "cell_type": "code",
      "source": [
        "# convolutional layer\n",
        "\n",
        "def convolutional_layer(input_x,shape):\n",
        "  W = init_weights(shape)\n",
        "  b = init_bias([shape[3]])\n",
        "  return tf.nn.relu(conv2d(input_x,W)+b)"
      ],
      "execution_count": 0,
      "outputs": []
    },
    {
      "metadata": {
        "id": "RWCu01XwWK5x",
        "colab_type": "code",
        "colab": {}
      },
      "cell_type": "code",
      "source": [
        "# Normal (Fully Connected)\n",
        "\n",
        "def normal_full_layer(input_layer,size):\n",
        "  input_size=int(input_layer.get_shape()[1])\n",
        "  W = init_weights([input_size,size])\n",
        "  b = init_bias([size])\n",
        "  return tf.matmul(input_layer,W) + b"
      ],
      "execution_count": 0,
      "outputs": []
    },
    {
      "metadata": {
        "id": "JZvF0i29cRmm",
        "colab_type": "code",
        "colab": {}
      },
      "cell_type": "code",
      "source": [
        "# Placeholders\n",
        "\n",
        "x=tf.placeholder(tf.float32,shape=[None,784])\n",
        "y_true=tf.placeholder(tf.float32,shape=[None,10])"
      ],
      "execution_count": 0,
      "outputs": []
    },
    {
      "metadata": {
        "id": "yUUgsRaIfHKy",
        "colab_type": "code",
        "colab": {}
      },
      "cell_type": "code",
      "source": [
        "# layers\n",
        "x_image=tf.reshape(x,[-1,28,28,1])"
      ],
      "execution_count": 0,
      "outputs": []
    },
    {
      "metadata": {
        "id": "dW457liUfrqK",
        "colab_type": "code",
        "colab": {}
      },
      "cell_type": "code",
      "source": [
        "convo_1=convolutional_layer(x_image,shape=[6,6,1,32])\n",
        "convo_1_pooling=max_pool_2by2(convo_1)"
      ],
      "execution_count": 0,
      "outputs": []
    },
    {
      "metadata": {
        "id": "6dPcRNTRhW6d",
        "colab_type": "code",
        "colab": {}
      },
      "cell_type": "code",
      "source": [
        "convo_2=convolutional_layer(convo_1_pooling,shape=[6,6,32,64])\n",
        "convo_2_pooling=max_pool_2by2(convo_2)"
      ],
      "execution_count": 0,
      "outputs": []
    },
    {
      "metadata": {
        "id": "te7dgXMdisw3",
        "colab_type": "code",
        "colab": {}
      },
      "cell_type": "code",
      "source": [
        "convo_2_flat=tf.reshape(convo_2_pooling,[-1,7*7*64])\n",
        "full_layer_one=tf.nn.relu(normal_full_layer(convo_2_flat,1024))"
      ],
      "execution_count": 0,
      "outputs": []
    },
    {
      "metadata": {
        "id": "cBWYiH1JjgYx",
        "colab_type": "code",
        "outputId": "9d539566-33d4-4a15-81aa-2e6b3798bcc4",
        "colab": {
          "base_uri": "https://localhost:8080/",
          "height": 88
        }
      },
      "cell_type": "code",
      "source": [
        "# Dropout\n",
        "\n",
        "hold_prob=tf.placeholder(tf.float32)\n",
        "full_one_dropout=tf.nn.dropout(full_layer_one,keep_prob=hold_prob)"
      ],
      "execution_count": 0,
      "outputs": [
        {
          "output_type": "stream",
          "text": [
            "WARNING:tensorflow:From <ipython-input-36-441026840564>:3: calling dropout (from tensorflow.python.ops.nn_ops) with keep_prob is deprecated and will be removed in a future version.\n",
            "Instructions for updating:\n",
            "Please use `rate` instead of `keep_prob`. Rate should be set to `rate = 1 - keep_prob`.\n"
          ],
          "name": "stdout"
        }
      ]
    },
    {
      "metadata": {
        "id": "g91DxSQmkewx",
        "colab_type": "code",
        "colab": {}
      },
      "cell_type": "code",
      "source": [
        "y_pred=normal_full_layer(full_one_dropout,10)"
      ],
      "execution_count": 0,
      "outputs": []
    },
    {
      "metadata": {
        "id": "5wkp5tUBlBXz",
        "colab_type": "code",
        "outputId": "e377262b-b96d-446c-bba9-192e38efce3c",
        "colab": {
          "base_uri": "https://localhost:8080/",
          "height": 173
        }
      },
      "cell_type": "code",
      "source": [
        "# Loss Function\n",
        "cross_entropy=tf.reduce_mean(tf.nn.softmax_cross_entropy_with_logits(labels=y_true,logits=y_pred))"
      ],
      "execution_count": 0,
      "outputs": [
        {
          "output_type": "stream",
          "text": [
            "WARNING:tensorflow:From <ipython-input-38-fcadc5f72f56>:1: softmax_cross_entropy_with_logits (from tensorflow.python.ops.nn_ops) is deprecated and will be removed in a future version.\n",
            "Instructions for updating:\n",
            "\n",
            "Future major versions of TensorFlow will allow gradients to flow\n",
            "into the labels input on backprop by default.\n",
            "\n",
            "See `tf.nn.softmax_cross_entropy_with_logits_v2`.\n",
            "\n"
          ],
          "name": "stdout"
        }
      ]
    },
    {
      "metadata": {
        "id": "riInV-Pwlww7",
        "colab_type": "code",
        "colab": {}
      },
      "cell_type": "code",
      "source": [
        "  # Optimizer\n",
        "  \n",
        "  optimizer=tf.train.AdamOptimizer(learning_rate=0.001)\n",
        "  train=optimizer.minimize(cross_entropy)"
      ],
      "execution_count": 0,
      "outputs": []
    },
    {
      "metadata": {
        "id": "uWsORWIFmLCD",
        "colab_type": "code",
        "colab": {}
      },
      "cell_type": "code",
      "source": [
        "# initialize variables\n",
        "init=tf.global_variables_initializer()"
      ],
      "execution_count": 0,
      "outputs": []
    },
    {
      "metadata": {
        "id": "AXld8Z2ptQ-I",
        "colab_type": "code",
        "outputId": "15c89df8-5540-4da3-b69b-342cdbbc6b12",
        "colab": {
          "base_uri": "https://localhost:8080/",
          "height": 2567
        }
      },
      "cell_type": "code",
      "source": [
        "steps=5000\n",
        "\n",
        "with tf.Session() as session:\n",
        "  session.run(init)\n",
        "  \n",
        "  for i in range(steps):\n",
        "\n",
        "    batch_x,batch_y=mnist.train.next_batch(50)\n",
        "    session.run(train,feed_dict={x:batch_x,y_true:batch_y,hold_prob:0.5})\n",
        "    if i%100==0:      \n",
        "      print('On Step: {}'.format(i))\n",
        "      print('Accuracy')\n",
        "    \n",
        "      matches=tf.equal(tf.argmax(y_pred,1),tf.argmax(y_true,1))\n",
        "      acc=tf.reduce_mean(tf.cast(matches,tf.float32))\n",
        "    \n",
        "      print(session.run(acc,feed_dict={x:mnist.test.images,y_true:mnist.test.labels,hold_prob:1.0}))\n",
        "      print\n"
      ],
      "execution_count": 0,
      "outputs": [
        {
          "output_type": "stream",
          "text": [
            "On Step: 0\n",
            "Accuracy\n",
            "0.0978\n",
            "On Step: 100\n",
            "Accuracy\n",
            "0.9436\n",
            "On Step: 200\n",
            "Accuracy\n",
            "0.9562\n",
            "On Step: 300\n",
            "Accuracy\n",
            "0.9689\n",
            "On Step: 400\n",
            "Accuracy\n",
            "0.9735\n",
            "On Step: 500\n",
            "Accuracy\n",
            "0.9723\n",
            "On Step: 600\n",
            "Accuracy\n",
            "0.977\n",
            "On Step: 700\n",
            "Accuracy\n",
            "0.9794\n",
            "On Step: 800\n",
            "Accuracy\n",
            "0.9783\n",
            "On Step: 900\n",
            "Accuracy\n",
            "0.9816\n",
            "On Step: 1000\n",
            "Accuracy\n",
            "0.9821\n",
            "On Step: 1100\n",
            "Accuracy\n",
            "0.9831\n",
            "On Step: 1200\n",
            "Accuracy\n",
            "0.9857\n",
            "On Step: 1300\n",
            "Accuracy\n",
            "0.9838\n",
            "On Step: 1400\n",
            "Accuracy\n",
            "0.9845\n",
            "On Step: 1500\n",
            "Accuracy\n",
            "0.9834\n",
            "On Step: 1600\n",
            "Accuracy\n",
            "0.9845\n",
            "On Step: 1700\n",
            "Accuracy\n",
            "0.9848\n",
            "On Step: 1800\n",
            "Accuracy\n",
            "0.9868\n",
            "On Step: 1900\n",
            "Accuracy\n",
            "0.9867\n",
            "On Step: 2000\n",
            "Accuracy\n",
            "0.9876\n",
            "On Step: 2100\n",
            "Accuracy\n",
            "0.9882\n",
            "On Step: 2200\n",
            "Accuracy\n",
            "0.986\n",
            "On Step: 2300\n",
            "Accuracy\n",
            "0.9872\n",
            "On Step: 2400\n",
            "Accuracy\n",
            "0.9884\n",
            "On Step: 2500\n",
            "Accuracy\n",
            "0.9873\n",
            "On Step: 2600\n",
            "Accuracy\n",
            "0.9847\n",
            "On Step: 2700\n",
            "Accuracy\n",
            "0.9902\n",
            "On Step: 2800\n",
            "Accuracy\n",
            "0.9875\n",
            "On Step: 2900\n",
            "Accuracy\n",
            "0.9861\n",
            "On Step: 3000\n",
            "Accuracy\n",
            "0.987\n",
            "On Step: 3100\n",
            "Accuracy\n",
            "0.9876\n",
            "On Step: 3200\n",
            "Accuracy\n",
            "0.9874\n",
            "On Step: 3300\n",
            "Accuracy\n",
            "0.9898\n",
            "On Step: 3400\n",
            "Accuracy\n",
            "0.9895\n",
            "On Step: 3500\n",
            "Accuracy\n",
            "0.9905\n",
            "On Step: 3600\n",
            "Accuracy\n",
            "0.9902\n",
            "On Step: 3700\n",
            "Accuracy\n",
            "0.9847\n",
            "On Step: 3800\n",
            "Accuracy\n",
            "0.9885\n",
            "On Step: 3900\n",
            "Accuracy\n",
            "0.989\n",
            "On Step: 4000\n",
            "Accuracy\n",
            "0.9896\n",
            "On Step: 4100\n",
            "Accuracy\n",
            "0.9887\n",
            "On Step: 4200\n",
            "Accuracy\n",
            "0.9889\n",
            "On Step: 4300\n",
            "Accuracy\n",
            "0.9904\n",
            "On Step: 4400\n",
            "Accuracy\n",
            "0.9887\n",
            "On Step: 4500\n",
            "Accuracy\n",
            "0.9897\n",
            "On Step: 4600\n",
            "Accuracy\n",
            "0.9893\n",
            "On Step: 4700\n",
            "Accuracy\n",
            "0.9898\n",
            "On Step: 4800\n",
            "Accuracy\n",
            "0.9895\n",
            "On Step: 4900\n",
            "Accuracy\n",
            "0.9903\n"
          ],
          "name": "stdout"
        }
      ]
    }
  ]
}